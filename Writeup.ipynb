{
 "cells": [
  {
   "cell_type": "markdown",
   "metadata": {},
   "source": [
    "# Model Predictive Control\n",
    "This project implements the model predictive control submission required towards completion of the Self Driving Car Nanodegree. The objectives of the project are as follows\n",
    "* Implement a MPC::Solve Function to find out the best trajectory to be followed\n",
    "* Tune the various hyper parameters for best performance (I went with raw speed)\n",
    "* Submit a writeup and explain the methodology of the solution"
   ]
  },
  {
   "cell_type": "markdown",
   "metadata": {},
   "source": [
    "## Kinematic Model\n",
    "The Vehicle Provided in the simulator works on a Ackermann steering based Kinematic Model, with one drive element and one orientation (steering) element. The Drive element is responsible for the forward force while the orientation element is responsible for angular direction.\n",
    "![Description](./writeup_helpers/Description_reference.png \"lost\")"
   ]
  },
  {
   "cell_type": "markdown",
   "metadata": {},
   "source": [
    "### State update Equations\n",
    "The State update equations of the model can be described as follows\n",
    "![State_Eqations](./writeup_helpers/state_update.png \"State Change\")\n"
   ]
  },
  {
   "cell_type": "markdown",
   "metadata": {},
   "source": [
    "### Error Equations\n",
    "There are two types of error\n",
    "* Cross Track Error: This is the difference in the lateral component in the car's reference frame\n",
    "* psi Error: Error in orientation\n",
    "These are calculated as\n",
    "![Error Equations](./writeup_helpers/error_equations.png \"Errors\")"
   ]
  },
  {
   "cell_type": "markdown",
   "metadata": {},
   "source": [
    "## Implementation Description\n",
    "The overall information flow is illustrated by the following figure\n",
    "![Flow](./writeup_helpers/MPC-flow.001.jpeg \"Flow\")"
   ]
  },
  {
   "cell_type": "markdown",
   "metadata": {},
   "source": [
    "### Choice of N and dt\n",
    "I chose dt to mirror the latency. This way one update per latency cycle can be maintained and we are not predicting too many values in too small an interval because latency will cause this to behave erratically\n",
    "\n",
    "Choice of N: This was pretty much tuned empirically\n",
    "Observations: Setting it too far resulted in delay in reducing the cost and bringing the trajectory in alignment with reference. This sometimes caused vehicle to understeer and go off road on sharp turns. Setting it to too small a value resulted in shudden shifts and overshoots. This also sometimes resulted in the car leaving the track"
   ]
  },
  {
   "cell_type": "markdown",
   "metadata": {},
   "source": [
    "### Polynomial Fitting\n",
    "I attempted fitting polynomials of orders 2 through 5. My observations are recorded below\n",
    "\n",
    "* Order 5: Lot of sudden changes, causing vehicle to drive off road. Lowering the number of points helped suppress some of this behaviour but was still not able to drive past the first two turns\n",
    "* Order 4 : More of the same. Erratic behavior and driving off road. However this time on very low speeds and with very short horizon I was able to complete a lap\n",
    "* Order 3 : Best Results. I was able to achieve speeds upwards of over 80mph and smooth trajectories\n",
    "* Order 2 : Too Much understeer. Speed needs to be just right to even make one turn\n",
    "\n",
    "** A Common behaviour I observed was that for all orders of polynomials except for 3 is that at specific turns the speed would slow down to almost zero and the vehicle would get stuck in a local minima of sorts. Even for really poor parameters for order 3, I did not observe this problem. I'm yet to comprehend the source of this issue but I'm going over the lessons and additional reading one more time. **"
   ]
  },
  {
   "cell_type": "markdown",
   "metadata": {},
   "source": [
    "### Latency\n",
    "Latency is dealt with by applying a kinematic update on the current state with dt = latency to arrive at a predicted state this state is then passed on the mpc as the starting point so that it takes into account where the vehicle might be when the next control input shall be applied."
   ]
  },
  {
   "cell_type": "markdown",
   "metadata": {
    "collapsed": true
   },
   "source": [
    "## Dependencies\n",
    "\n",
    "* cmake >= 3.5\n",
    " * All OSes: [click here for installation instructions](https://cmake.org/install/)\n",
    "* make >= 4.1\n",
    "  * Linux: make is installed by default on most Linux distros\n",
    "  * Mac: [install Xcode command line tools to get make](https://developer.apple.com/xcode/features/)\n",
    "  * Windows: [Click here for installation instructions](http://gnuwin32.sourceforge.net/packages/make.htm)\n",
    "* gcc/g++ >= 5.4\n",
    "  * Linux: gcc / g++ is installed by default on most Linux distros\n",
    "  * Mac: same deal as make - [install Xcode command line tools]((https://developer.apple.com/xcode/features/)\n",
    "  * Windows: recommend using [MinGW](http://www.mingw.org/)\n",
    "* [uWebSockets](https://github.com/uWebSockets/uWebSockets)\n",
    "  * Run either `install-mac.sh` or `install-ubuntu.sh`.\n",
    "  * If you install from source, checkout to commit `e94b6e1`, i.e.\n",
    "    ```\n",
    "    git clone https://github.com/uWebSockets/uWebSockets \n",
    "    cd uWebSockets\n",
    "    git checkout e94b6e1\n",
    "    ```\n",
    "    Some function signatures have changed in v0.14.x. See [this PR](https://github.com/udacity/CarND-MPC-Project/pull/3) for more details.\n",
    "* Fortran Compiler\n",
    "  * Mac: `brew install gcc` (might not be required)\n",
    "  * Linux: `sudo apt-get install gfortran`. Additionall you have also have to install gcc and g++, `sudo apt-get install gcc g++`. Look in [this Dockerfile](https://github.com/udacity/CarND-MPC-Quizzes/blob/master/Dockerfile) for more info.\n",
    "* [Ipopt](https://projects.coin-or.org/Ipopt)\n",
    "  * Mac: `brew install ipopt`\n",
    "  * Linux\n",
    "    * You will need a version of Ipopt 3.12.1 or higher. The version available through `apt-get` is 3.11.x. If you can get that version to work great but if not there's a script `install_ipopt.sh` that will install Ipopt. You just need to download the source from the Ipopt [releases page](https://www.coin-or.org/download/source/Ipopt/) or the [Github releases](https://github.com/coin-or/Ipopt/releases) page.\n",
    "    * Then call `install_ipopt.sh` with the source directory as the first argument, ex: `bash install_ipopt.sh Ipopt-3.12.1`. \n",
    "  * Windows: TODO. If you can use the Linux subsystem and follow the Linux instructions.\n",
    "* [CppAD](https://www.coin-or.org/CppAD/)\n",
    "  * Mac: `brew install cppad`\n",
    "  * Linux `sudo apt-get install cppad` or equivalent.\n",
    "  * Windows: TODO. If you can use the Linux subsystem and follow the Linux instructions.\n",
    "* [Eigen](http://eigen.tuxfamily.org/index.php?title=Main_Page). This is already part of the repo so you shouldn't have to worry about it.\n",
    "* Simulator. You can download these from the [releases tab](https://github.com/udacity/self-driving-car-sim/releases).\n",
    "* Not a dependency but read the [DATA.md](./DATA.md) for a description of the data sent back from the simulator.\n",
    "\n",
    "\n",
    "## Basic Build Instructions\n",
    "\n",
    "\n",
    "1. Clone this repo.\n",
    "2. Make a build directory: `mkdir build && cd build`\n",
    "3. Compile: `cmake .. && make`\n",
    "4. Run it: `./mpc`.\n",
    "\n"
   ]
  },
  {
   "cell_type": "code",
   "execution_count": null,
   "metadata": {
    "collapsed": true
   },
   "outputs": [],
   "source": []
  }
 ],
 "metadata": {
  "kernelspec": {
   "display_name": "Python 3",
   "language": "python",
   "name": "python3"
  },
  "language_info": {
   "codemirror_mode": {
    "name": "ipython",
    "version": 3
   },
   "file_extension": ".py",
   "mimetype": "text/x-python",
   "name": "python",
   "nbconvert_exporter": "python",
   "pygments_lexer": "ipython3",
   "version": "3.5.3"
  }
 },
 "nbformat": 4,
 "nbformat_minor": 2
}
